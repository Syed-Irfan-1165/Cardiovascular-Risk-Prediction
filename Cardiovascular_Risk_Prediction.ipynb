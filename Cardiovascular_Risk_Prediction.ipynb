{
  "nbformat": 4,
  "nbformat_minor": 0,
  "metadata": {
    "colab": {
      "provenance": [],
      "authorship_tag": "ABX9TyMeaT/8f9dY2WC6knSrnlSn",
      "include_colab_link": true
    },
    "kernelspec": {
      "name": "python3",
      "display_name": "Python 3"
    },
    "language_info": {
      "name": "python"
    }
  },
  "cells": [
    {
      "cell_type": "markdown",
      "metadata": {
        "id": "view-in-github",
        "colab_type": "text"
      },
      "source": [
        "<a href=\"https://colab.research.google.com/github/Syed-Irfan-1165/ML-Classification/blob/master/Cardiovascular_Risk_Prediction.ipynb\" target=\"_parent\"><img src=\"https://colab.research.google.com/assets/colab-badge.svg\" alt=\"Open In Colab\"/></a>"
      ]
    },
    {
      "cell_type": "markdown",
      "source": [
        "# Cardiovascular Risk Prediction "
      ],
      "metadata": {
        "id": "4F5mETGDkH0p"
      }
    },
    {
      "cell_type": "markdown",
      "source": [
        "The dataset is from an ongoing cardiovascular study on residents of the town of Framingham, Massachusetts. The classification goal is to predict whether the patient has a 10-year risk of future coronary heart disease (CHD). The dataset provides the patients’ information. It includes over 4,000 records and 15 attributes. Each attribute is a potential risk factor. There are both demographic, behavioral, and medical risk factors."
      ],
      "metadata": {
        "id": "OpwhTSX8kX_d"
      }
    },
    {
      "cell_type": "markdown",
      "source": [
        "**Project Type** - Machine Learning Classification\n",
        "**:**\n",
        "*  **Member 1** - Syed Khaja Irfanuddin\n"
      ],
      "metadata": {
        "id": "v_gD9IgYPaOY"
      }
    },
    {
      "cell_type": "markdown",
      "metadata": {
        "id": "sLZTHfXcik75"
      },
      "source": [
        "#Project Summary"
      ]
    },
    {
      "cell_type": "markdown",
      "source": [
        "The project on cardiovascular risk prediction aims to develop a model that can accurately predict the likelihood of an individual developing cardiovascular disease (CVD) based on demographic and lifestyle factors. The goal is to provide a personalized risk score for each individual, allowing healthcare providers to intervene and prevent or mitigate the disease.\n",
        "\n",
        "The model will take into account factors such as age, gender, family history, smoking, hypertension, obesity, physical inactivity, high cholesterol levels, and diabetes. The project will address the challenge of accurately quantifying the contribution of each factor to the overall CVD risk and taking into account the complex interplay between these factors. The solution will be scalable, easily interpretable, and able to handle missing data.\n",
        "\n",
        "The end result of this project will be a predictive model that can be used by healthcare providers to prioritize their interventions and improve the outcomes for individuals at high risk of CVD. The model will have the potential to have a significant impact on public health by reducing the incidence of CVD and improving the lives of those affected by the disease."
      ],
      "metadata": {
        "id": "ZXRlCtLmmM2z"
      }
    },
    {
      "cell_type": "markdown",
      "source": [
        "##Dataset description"
      ],
      "metadata": {
        "id": "kYFBLGwGmXFr"
      }
    },
    {
      "cell_type": "markdown",
      "source": [
        "### Demographic:\n",
        "*  Sex: male or female(\"M\" or \"F\")\n",
        "*  Age: Age of the patient;(Continuous - Although the recorded ages have been truncated to whole numbers, the concept of age is continuous)\n",
        "\n",
        "### Behavioral:\n",
        "*  is_smoking: whether or not the patient is a current smoker (\"YES\" or \"NO\")\n",
        "*  Cigs Per Day: the number of cigarettes that the person smoked on average in one day.(can be considered continuous as one can have any number of cigarettes, even half a cigarette.)\n",
        "\n",
        "### Medical( history):\n",
        "*  BP Meds: whether or not the patient was on blood pressure medication (Nominal)\n",
        "*  Prevalent Stroke: whether or not the patient had previously had a stroke (Nominal)\n",
        "*  Prevalent Hyp: whether or not the patient was hypertensive (Nominal)\n",
        "*  Diabetes: whether or not the patient had diabetes (Nominal)\n",
        "\n",
        "### Medical( current):\n",
        "*  Tot Chol: total cholesterol level (Continuous)\n",
        "*  Sys BP: systolic blood pressure (Continuous)\n",
        "*  Dia BP: diastolic blood pressure (Continuous)\n",
        "*  BMI: Body Mass Index (Continuous)\n",
        "*  Heart Rate: heart rate (Continuous - In medical research, variables such as heart rate though infact discrete, yet are considered continuous because of large number of possible values.)\n",
        "*  Glucose: glucose level (Continuous)\n",
        "\n",
        "### Predict variable (desired target):\n",
        "*  10-year risk of coronary heart disease CHD(binary: “1”, means “Yes”, “0” means “No”) "
      ],
      "metadata": {
        "id": "bgG_wHIxm2OD"
      }
    },
    {
      "cell_type": "markdown",
      "source": [
        "##Problem Statement\n",
        "\n",
        "The problem of cardiovascular disease (CVD) prediction involves identifying individuals who are at a higher risk of developing CVD based on various demographic and lifestyle factors. The goal is to accurately assess the likelihood of an individual developing CVD in the near future, allowing healthcare providers to intervene and prevent or mitigate the disease."
      ],
      "metadata": {
        "id": "i1WvMdS5_oC2"
      }
    },
    {
      "cell_type": "markdown",
      "source": [
        "#Know Your Data"
      ],
      "metadata": {
        "id": "_A2wbPkjp6bg"
      }
    },
    {
      "cell_type": "code",
      "source": [
        "# Import Libraries\n",
        "\n",
        "import numpy as np\n",
        "import pandas as pd\n",
        "import matplotlib.pyplot as plt\n",
        "import seaborn as sns\n",
        "%matplotlib inline"
      ],
      "metadata": {
        "id": "B48G2tTmp-d9"
      },
      "execution_count": 1,
      "outputs": []
    },
    {
      "cell_type": "code",
      "source": [
        "#Mount Drive\n",
        "\n",
        "from google.colab import drive\n",
        "drive.mount ('/content/drive')"
      ],
      "metadata": {
        "colab": {
          "base_uri": "https://localhost:8080/"
        },
        "id": "xGTsxLZVqR1L",
        "outputId": "a5a3fd9f-cfae-4b67-e73d-4454d7717b55"
      },
      "execution_count": 3,
      "outputs": [
        {
          "output_type": "stream",
          "name": "stdout",
          "text": [
            "Mounted at /content/drive\n"
          ]
        }
      ]
    },
    {
      "cell_type": "code",
      "source": [
        "#Load Dataset\n",
        "\n",
        "cv_df = pd.read_csv(r\"/content/drive/MyDrive/Classification /Cardiovascular_Risk_Prediction_Capstone_Project.ipynb\")"
      ],
      "metadata": {
        "id": "5V48TxWaqbzE"
      },
      "execution_count": 4,
      "outputs": []
    },
    {
      "cell_type": "code",
      "source": [],
      "metadata": {
        "id": "48KluJaNquIb"
      },
      "execution_count": null,
      "outputs": []
    }
  ]
}